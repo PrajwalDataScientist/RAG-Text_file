{
 "cells": [
  {
   "cell_type": "code",
   "execution_count": 40,
   "id": "56d5acfe",
   "metadata": {},
   "outputs": [],
   "source": [
    "from langchain_community.document_loaders import TextLoader\n",
    "from langchain_text_splitters import RecursiveCharacterTextSplitter\n",
    "from langchain_community.embeddings import OllamaEmbeddings\n",
    "from langchain_community.vectorstores import FAISS\n",
    "from langchain_community.llms import Ollama\n",
    "from langchain.chains import RetrievalQA\n",
    "import pickle\n",
    "import os\n"
   ]
  },
  {
   "cell_type": "code",
   "execution_count": 41,
   "id": "5f40c7c1",
   "metadata": {},
   "outputs": [
    {
     "data": {
      "text/plain": [
       "[Document(metadata={'source': 'data.txt'}, page_content='Dr. A. P. J. Abdul Kalam was born on 15 October 1931 in Rameswaram, Tamil Nadu.\\nHe came from a simple family, and his father was a boat owner while his mother was a homemaker.\\nDespite financial struggles, Kalam was a bright and hardworking student from his childhood.\\nHe sold newspapers as a boy to support his education and family.\\nHis interest in science and flight began at an early age.\\nHe studied physics at St. Joseph’s College in Tiruchirappalli.\\nLater, he pursued aerospace engineering at the Madras Institute of Technology.\\nHis teachers noticed his sharp mind and encouraged him to pursue research.\\nAfter graduation, he joined the Defence Research and Development Organisation (DRDO).\\nSoon, he moved to the Indian Space Research Organisation (ISRO).\\nAt ISRO, Kalam played a major role in India’s first Satellite Launch Vehicle (SLV-III).\\nThe SLV-III successfully launched the Rohini satellite in 1980.\\nThis made India one of the few countries with satellite launching capability.\\nKalam’s leadership and vision were deeply respected by his colleagues.\\nLater, he worked on the Integrated Guided Missile Development Program (IGMDP).\\nHe became the key figure behind India’s Agni and Prithvi missiles.\\nFor these achievements, he was called the “Missile Man of India.”\\nIn 1998, he contributed to India’s nuclear tests at Pokhran-II.\\nThese tests made India a strong nuclear power.\\nHe always believed that science and technology should serve society.\\nHe promoted education, rural development, and youth empowerment.\\nHis famous vision was to make India a developed nation by 2020.\\nHe shared his thoughts in his popular book India 2020.\\nKalam also wrote Wings of Fire, his inspiring autobiography.\\nHis books continue to motivate students across the world.\\nIn 2002, Abdul Kalam became the 11th President of India.\\nHe was known as the “People’s President.”\\nHe lived a simple life even while in the Rashtrapati Bhavan.\\nHe was loved for his humility, kindness, and wisdom.\\nAfter completing his term in 2007, he returned to teaching.\\nHe taught at institutions like IIM Shillong, Anna University, and others.\\nHe believed that students are the real strength of India.\\nHe often said that dreaming big is the first step to success.\\nHis speeches were full of hope, positivity, and vision.\\nKalam always encouraged youth to pursue science and innovation.\\nHe was awarded the Bharat Ratna, India’s highest civilian honor, in 1997.\\nHe also received Padma Bhushan and Padma Vibhushan awards earlier.\\nHe never married and dedicated his entire life to the nation.\\nOn 27 July 2015, he was delivering a lecture at IIM Shillong.\\nDuring the speech, he collapsed due to a cardiac arrest.\\nHe passed away at the age of 83, leaving millions in sorrow.\\nHis funeral was attended by leaders, citizens, and students from across the country.\\nEven after his death, he remains a symbol of knowledge and inspiration.\\nPeople remember him as a scientist, teacher, leader, and dreamer.\\nHis life showed that success comes from hard work and honesty.\\nHe taught that true wealth is not money, but values and service.\\nHe believed India’s strength lies in its youth and education.\\nDr. Kalam’s life continues to inspire generations of Indians.\\nHe will always be remembered as the “Missile Man” and the “People’s President.”')]"
      ]
     },
     "execution_count": 41,
     "metadata": {},
     "output_type": "execute_result"
    }
   ],
   "source": [
    "# Set your file path. Keep it simple: data.txt in the current folder.\n",
    "data_path = \"data.txt\"\n",
    "\n",
    "loader = TextLoader(data_path, encoding=\"utf-8\")\n",
    "text = loader.load()\n",
    "text[:1]  \n"
   ]
  },
  {
   "cell_type": "code",
   "execution_count": 42,
   "id": "4e2bc758",
   "metadata": {},
   "outputs": [
    {
     "data": {
      "text/plain": [
       "(13,\n",
       " Document(metadata={'source': 'data.txt'}, page_content='Dr. A. P. J. Abdul Kalam was born on 15 October 1931 in Rameswaram, Tamil Nadu.\\nHe came from a simple family, and his father was a boat owner while his mother was a homemaker.\\nDespite financial struggles, Kalam was a bright and hardworking student from his childhood.'))"
      ]
     },
     "execution_count": 42,
     "metadata": {},
     "output_type": "execute_result"
    }
   ],
   "source": [
    "splitter = RecursiveCharacterTextSplitter(chunk_size=300, chunk_overlap=50)\n",
    "text_splitter = splitter.split_documents(text)\n",
    "len(text_splitter), text_splitter[0]\n"
   ]
  },
  {
   "cell_type": "code",
   "execution_count": 43,
   "id": "3dba0df7",
   "metadata": {},
   "outputs": [],
   "source": [
    "embediing = OllamaEmbeddings(model=\"nomic-embed-text:latest\")\n",
    "\n",
    "db = FAISS.from_documents(text_splitter, embedding=embediing)\n",
    "retriever = db.as_retriever()\n"
   ]
  },
  {
   "cell_type": "code",
   "execution_count": 44,
   "id": "58b325f5",
   "metadata": {},
   "outputs": [],
   "source": [
    "model = Ollama(model=\"mistral:latest\")\n",
    "\n",
    "qa_chain = RetrievalQA.from_chain_type(\n",
    "    llm=model,\n",
    "    retriever=retriever\n",
    ")\n"
   ]
  },
  {
   "cell_type": "code",
   "execution_count": 45,
   "id": "ee435f37",
   "metadata": {},
   "outputs": [
    {
     "data": {
      "text/plain": [
       "' Dr. A.P.J. Abdul Kalam was a renowned scientist and politician from India, known as the \"Missile Man\" for his work on India\\'s missile development programs, particularly Agni and Prithvi. He served as the 11th President of India from 2002 to 2007 and was also an inspirational author whose books continue to motivate students worldwide.'"
      ]
     },
     "execution_count": 45,
     "metadata": {},
     "output_type": "execute_result"
    }
   ],
   "source": [
    "question = \"who is apj abdual kalam give short in 2 lines\"\n",
    "response = qa_chain.invoke(question)\n",
    "response[\"result\"]\n"
   ]
  },
  {
   "cell_type": "code",
   "execution_count": 46,
   "id": "1a3fea28",
   "metadata": {},
   "outputs": [
    {
     "data": {
      "text/plain": [
       "45533"
      ]
     },
     "execution_count": 46,
     "metadata": {},
     "output_type": "execute_result"
    }
   ],
   "source": [
    "# This creates vectorstore.pkl in the current folder\n",
    "with open(\"vectorstore.pkl\", \"wb\") as f:\n",
    "    pickle.dump(db, f)\n",
    "\n",
    "os.path.getsize(\"vectorstore.pkl\")  \n"
   ]
  },
  {
   "cell_type": "code",
   "execution_count": 47,
   "id": "245ab431",
   "metadata": {},
   "outputs": [
    {
     "data": {
      "text/plain": [
       "' Dr. A. P. J. Abdul Kalam was a renowned scientist who played a significant role in India\\'s missile development program, earning him the title \"Missile Man of India.\" He served as the 11th President of India and is widely respected for his leadership, vision, and inspiring life story. His books continue to motivate students across the globe.'"
      ]
     },
     "execution_count": 47,
     "metadata": {},
     "output_type": "execute_result"
    }
   ],
   "source": [
    "with open(\"vectorstore.pkl\", \"rb\") as f:\n",
    "    db_loaded = pickle.load(f)\n",
    "\n",
    "retriever_loaded = db_loaded.as_retriever()\n",
    "\n",
    "qa_chain_loaded = RetrievalQA.from_chain_type(\n",
    "    llm=Ollama(model=\"mistral:latest\"),\n",
    "    retriever=retriever_loaded\n",
    ")\n",
    "\n",
    "qa_chain_loaded.invoke(\"give 2 lines about apj abdul kalam\")[\"result\"]\n"
   ]
  },
  {
   "cell_type": "code",
   "execution_count": null,
   "id": "2ba4382f",
   "metadata": {},
   "outputs": [],
   "source": []
  }
 ],
 "metadata": {
  "kernelspec": {
   "display_name": "Chatbot Tools",
   "language": "python",
   "name": "chatbot_env"
  },
  "language_info": {
   "codemirror_mode": {
    "name": "ipython",
    "version": 3
   },
   "file_extension": ".py",
   "mimetype": "text/x-python",
   "name": "python",
   "nbconvert_exporter": "python",
   "pygments_lexer": "ipython3",
   "version": "3.10.9"
  }
 },
 "nbformat": 4,
 "nbformat_minor": 5
}
